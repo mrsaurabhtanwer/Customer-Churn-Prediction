{
  "nbformat": 4,
  "nbformat_minor": 0,
  "metadata": {
    "colab": {
      "provenance": []
    },
    "kernelspec": {
      "name": "python3",
      "display_name": "Python 3"
    },
    "language_info": {
      "name": "python"
    }
  },
  "cells": [
    {
      "cell_type": "code",
      "execution_count": 1,
      "metadata": {
        "colab": {
          "base_uri": "https://localhost:8080/"
        },
        "id": "LP5NhRvGUgzY",
        "outputId": "a1e004a5-6aec-4e35-ddcc-d3da1fe4f321"
      },
      "outputs": [
        {
          "output_type": "stream",
          "name": "stderr",
          "text": [
            "<ipython-input-1-be7e68052c4a>:21: FutureWarning: A value is trying to be set on a copy of a DataFrame or Series through chained assignment using an inplace method.\n",
            "The behavior will change in pandas 3.0. This inplace method will never work because the intermediate object on which we are setting values always behaves as a copy.\n",
            "\n",
            "For example, when doing 'df[col].method(value, inplace=True)', try using 'df.method({col: value}, inplace=True)' or df[col] = df[col].method(value) instead, to perform the operation inplace on the original object.\n",
            "\n",
            "\n",
            "  df['TotalCharges'].fillna(df['TotalCharges'].mean(), inplace=True)\n"
          ]
        },
        {
          "output_type": "stream",
          "name": "stdout",
          "text": [
            "Accuracy: 0.7920511000709723\n",
            "Classification Report:\n",
            "               precision    recall  f1-score   support\n",
            "\n",
            "           0       0.83      0.91      0.87      1036\n",
            "           1       0.65      0.47      0.54       373\n",
            "\n",
            "    accuracy                           0.79      1409\n",
            "   macro avg       0.74      0.69      0.70      1409\n",
            "weighted avg       0.78      0.79      0.78      1409\n",
            "\n"
          ]
        },
        {
          "output_type": "execute_result",
          "data": {
            "text/plain": [
              "['churn_model.pkl']"
            ]
          },
          "metadata": {},
          "execution_count": 1
        }
      ],
      "source": [
        "# Import necessary libraries\n",
        "import pandas as pd\n",
        "import numpy as np\n",
        "from sklearn.model_selection import train_test_split\n",
        "from sklearn.preprocessing import LabelEncoder\n",
        "from sklearn.ensemble import RandomForestClassifier\n",
        "from sklearn.metrics import classification_report, accuracy_score\n",
        "import joblib\n",
        "\n",
        "# Load the dataset\n",
        "df = pd.read_csv('/content/WA_Fn-UseC_-Telco-Customer-Churn.csv')\n",
        "\n",
        "# Display first few rows to understand data\n",
        "df.head()\n",
        "\n",
        "# Step 1: Handle missing values (if any)\n",
        "df.isnull().sum()\n",
        "\n",
        "# Fill missing values or drop columns (example: drop 'TotalCharges' column if needed)\n",
        "df['TotalCharges'] = pd.to_numeric(df['TotalCharges'], errors='coerce')\n",
        "df['TotalCharges'].fillna(df['TotalCharges'].mean(), inplace=True)\n",
        "\n",
        "# Step 2: Encode categorical columns (e.g., 'Gender', 'InternetService')\n",
        "label_encoder = LabelEncoder()\n",
        "df['gender'] = label_encoder.fit_transform(df['gender'])\n",
        "df['SeniorCitizen'] = label_encoder.fit_transform(df['SeniorCitizen'])\n",
        "df['Partner'] = label_encoder.fit_transform(df['Partner'])\n",
        "df['Dependents'] = label_encoder.fit_transform(df['Dependents'])\n",
        "df['PhoneService'] = label_encoder.fit_transform(df['PhoneService'])\n",
        "df['MultipleLines'] = label_encoder.fit_transform(df['MultipleLines'])\n",
        "df['InternetService'] = label_encoder.fit_transform(df['InternetService'])\n",
        "df['OnlineSecurity'] = label_encoder.fit_transform(df['OnlineSecurity'])\n",
        "df['OnlineBackup'] = label_encoder.fit_transform(df['OnlineBackup'])\n",
        "df['DeviceProtection'] = label_encoder.fit_transform(df['DeviceProtection'])\n",
        "df['TechSupport'] = label_encoder.fit_transform(df['TechSupport'])\n",
        "df['StreamingTV'] = label_encoder.fit_transform(df['StreamingTV'])\n",
        "df['StreamingMovies'] = label_encoder.fit_transform(df['StreamingMovies'])\n",
        "df['Contract'] = label_encoder.fit_transform(df['Contract'])\n",
        "df['PaperlessBilling'] = label_encoder.fit_transform(df['PaperlessBilling'])\n",
        "df['PaymentMethod'] = label_encoder.fit_transform(df['PaymentMethod'])\n",
        "df['Churn'] = label_encoder.fit_transform(df['Churn'])\n",
        "\n",
        "# Step 3: Define features (X) and target variable (y)\n",
        "X = df.drop(columns=['Churn', 'customerID'])\n",
        "y = df['Churn']\n",
        "\n",
        "# Step 4: Train/Test Split\n",
        "X_train, X_test, y_train, y_test = train_test_split(X, y, test_size=0.2, random_state=42)\n",
        "\n",
        "# Step 5: Train the model\n",
        "model = RandomForestClassifier(n_estimators=100, random_state=42)\n",
        "model.fit(X_train, y_train)\n",
        "\n",
        "# Step 6: Evaluate the model\n",
        "y_pred = model.predict(X_test)\n",
        "print(\"Accuracy:\", accuracy_score(y_test, y_pred))\n",
        "print(\"Classification Report:\\n\", classification_report(y_test, y_pred))\n",
        "\n",
        "# Step 7: Save the model for later use\n",
        "joblib.dump(model, 'churn_model.pkl')\n"
      ]
    },
    {
      "cell_type": "code",
      "source": [],
      "metadata": {
        "id": "WjYzPiu9YYYM"
      },
      "execution_count": null,
      "outputs": []
    }
  ]
}